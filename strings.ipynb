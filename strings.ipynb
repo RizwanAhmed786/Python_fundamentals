{
 "cells": [
  {
   "cell_type": "code",
   "execution_count": 1,
   "id": "574120bb-41db-46f3-bb7c-0415aa989c4a",
   "metadata": {},
   "outputs": [
    {
     "name": "stdout",
     "output_type": "stream",
     "text": [
      "hello world\n"
     ]
    }
   ],
   "source": [
    "print ('hello world')"
   ]
  },
  {
   "cell_type": "code",
   "execution_count": null,
   "id": "9bec987a-d6cb-4755-8e77-dbfe863f803b",
   "metadata": {},
   "outputs": [],
   "source": []
  },
  {
   "cell_type": "code",
   "execution_count": 2,
   "id": "e0309799-756b-4174-850e-d0df1c27b761",
   "metadata": {},
   "outputs": [],
   "source": [
    "#No Namespaces while declaring the variables"
   ]
  },
  {
   "cell_type": "code",
   "execution_count": 5,
   "id": "a4abbfe9-90f4-4628-b9d0-f907c7aaf426",
   "metadata": {},
   "outputs": [],
   "source": [
    "firstname ='faiyaz'"
   ]
  },
  {
   "cell_type": "code",
   "execution_count": 11,
   "id": "984c3f78-fce9-4767-8556-7caba2793282",
   "metadata": {},
   "outputs": [
    {
     "ename": "SyntaxError",
     "evalue": "invalid syntax. Perhaps you forgot a comma? (933395579.py, line 1)",
     "output_type": "error",
     "traceback": [
      "\u001b[1;36m  Cell \u001b[1;32mIn[11], line 1\u001b[1;36m\u001b[0m\n\u001b[1;33m    print (firs tname)\u001b[0m\n\u001b[1;37m           ^\u001b[0m\n\u001b[1;31mSyntaxError\u001b[0m\u001b[1;31m:\u001b[0m invalid syntax. Perhaps you forgot a comma?\n"
     ]
    }
   ],
   "source": [
    "print (firs tname)"
   ]
  },
  {
   "cell_type": "code",
   "execution_count": null,
   "id": "bb411e86-8045-4f35-88cd-3bb667a167cc",
   "metadata": {},
   "outputs": [],
   "source": []
  },
  {
   "cell_type": "code",
   "execution_count": 8,
   "id": "7315d8f7-a422-4a6f-981e-62b93420983d",
   "metadata": {},
   "outputs": [],
   "source": [
    "firstname ='faiyaz'"
   ]
  },
  {
   "cell_type": "code",
   "execution_count": 9,
   "id": "6fd5afe5-0be1-45d4-b129-d904719b9c0e",
   "metadata": {},
   "outputs": [
    {
     "name": "stdout",
     "output_type": "stream",
     "text": [
      "faiyaz\n"
     ]
    }
   ],
   "source": [
    "print(firstname)"
   ]
  },
  {
   "cell_type": "code",
   "execution_count": null,
   "id": "d3b1c621-8d20-480b-8521-545a80470e2b",
   "metadata": {},
   "outputs": [],
   "source": []
  },
  {
   "cell_type": "code",
   "execution_count": null,
   "id": "7dc66d52-916e-4234-b6a3-fa77bb2ac0d9",
   "metadata": {},
   "outputs": [],
   "source": [
    "#number are not allowed initially in the variables"
   ]
  },
  {
   "cell_type": "code",
   "execution_count": null,
   "id": "6749cf67-0dc7-4f97-88fc-4e8a81c7ee83",
   "metadata": {},
   "outputs": [],
   "source": [
    "1name = 'Hema'"
   ]
  },
  {
   "cell_type": "code",
   "execution_count": 13,
   "id": "45f36e92-4108-4aa9-85e2-fc75d0868ea1",
   "metadata": {},
   "outputs": [
    {
     "ename": "SyntaxError",
     "evalue": "invalid decimal literal (4228280392.py, line 1)",
     "output_type": "error",
     "traceback": [
      "\u001b[1;36m  Cell \u001b[1;32mIn[13], line 1\u001b[1;36m\u001b[0m\n\u001b[1;33m    print (1name)\u001b[0m\n\u001b[1;37m           ^\u001b[0m\n\u001b[1;31mSyntaxError\u001b[0m\u001b[1;31m:\u001b[0m invalid decimal literal\n"
     ]
    }
   ],
   "source": [
    "print (1name)"
   ]
  },
  {
   "cell_type": "code",
   "execution_count": null,
   "id": "5aa67ea3-2f02-44bc-ac33-85a1d0da27ca",
   "metadata": {},
   "outputs": [],
   "source": []
  },
  {
   "cell_type": "code",
   "execution_count": 19,
   "id": "402da60b-10eb-4801-bea3-dae5b52832f6",
   "metadata": {},
   "outputs": [],
   "source": [
    "name1 = 'Hema'"
   ]
  },
  {
   "cell_type": "code",
   "execution_count": 20,
   "id": "97b70cb7-0cb3-4dcc-9fcf-255aca14cfb0",
   "metadata": {},
   "outputs": [
    {
     "name": "stdout",
     "output_type": "stream",
     "text": [
      "Hema\n"
     ]
    }
   ],
   "source": [
    "print (name1)"
   ]
  },
  {
   "cell_type": "code",
   "execution_count": null,
   "id": "2572bc67-c29a-4a75-a004-593b77de9809",
   "metadata": {},
   "outputs": [],
   "source": []
  },
  {
   "cell_type": "code",
   "execution_count": null,
   "id": "286aa307-ac5f-45bf-a7f8-5862434bd2ca",
   "metadata": {},
   "outputs": [],
   "source": [
    "#specail characters not allowed"
   ]
  },
  {
   "cell_type": "code",
   "execution_count": 21,
   "id": "d554bb09-07d8-4598-9cf8-8bc93091ef7e",
   "metadata": {},
   "outputs": [
    {
     "ename": "SyntaxError",
     "evalue": "invalid syntax (4080146077.py, line 1)",
     "output_type": "error",
     "traceback": [
      "\u001b[1;36m  Cell \u001b[1;32mIn[21], line 1\u001b[1;36m\u001b[0m\n\u001b[1;33m    name@ ='naveen'\u001b[0m\n\u001b[1;37m          ^\u001b[0m\n\u001b[1;31mSyntaxError\u001b[0m\u001b[1;31m:\u001b[0m invalid syntax\n"
     ]
    }
   ],
   "source": [
    "name@ ='naveen'"
   ]
  },
  {
   "cell_type": "code",
   "execution_count": null,
   "id": "cbe0d2c1-e293-4550-8fa6-5a763d27e919",
   "metadata": {},
   "outputs": [],
   "source": []
  },
  {
   "cell_type": "code",
   "execution_count": 22,
   "id": "cbc63c6d-53ca-4d23-8571-cc3479533d51",
   "metadata": {},
   "outputs": [],
   "source": [
    "#intro to strings"
   ]
  },
  {
   "cell_type": "code",
   "execution_count": 23,
   "id": "0a68deed-a127-4cde-99b4-1f196c494636",
   "metadata": {},
   "outputs": [],
   "source": [
    "name = 'karthik'"
   ]
  },
  {
   "cell_type": "code",
   "execution_count": 24,
   "id": "0bd21b69-19b5-4c82-8140-d32171b3278c",
   "metadata": {},
   "outputs": [
    {
     "name": "stdout",
     "output_type": "stream",
     "text": [
      "karthik\n"
     ]
    }
   ],
   "source": [
    "print (name)"
   ]
  },
  {
   "cell_type": "code",
   "execution_count": null,
   "id": "b8e6e1ec-0769-4db0-bd7d-8c56588ef821",
   "metadata": {},
   "outputs": [],
   "source": [
    "# with single quote or double quote both rule same"
   ]
  },
  {
   "cell_type": "code",
   "execution_count": 25,
   "id": "96efb3cd-afa2-4d20-b772-56011515a7bb",
   "metadata": {},
   "outputs": [],
   "source": [
    "name2 = \"rahim\""
   ]
  },
  {
   "cell_type": "code",
   "execution_count": 26,
   "id": "87ca97ec-b608-4ea5-9c14-3789cb16edc8",
   "metadata": {},
   "outputs": [
    {
     "name": "stdout",
     "output_type": "stream",
     "text": [
      "rahim\n"
     ]
    }
   ],
   "source": [
    "print (name2)"
   ]
  },
  {
   "cell_type": "code",
   "execution_count": 27,
   "id": "a605fd21-7f7a-4e86-b717-5442c4b51a95",
   "metadata": {},
   "outputs": [],
   "source": [
    "#print first letter upper case for name or noun"
   ]
  },
  {
   "cell_type": "code",
   "execution_count": 28,
   "id": "83e074da-eff9-4914-a0e8-323dace5df30",
   "metadata": {},
   "outputs": [],
   "source": [
    "fullname = 'rizwan ahmed syed'"
   ]
  },
  {
   "cell_type": "code",
   "execution_count": 29,
   "id": "5dfc8b26-45f7-42ef-a068-861be0610501",
   "metadata": {},
   "outputs": [
    {
     "name": "stdout",
     "output_type": "stream",
     "text": [
      "Rizwan Ahmed Syed\n"
     ]
    }
   ],
   "source": [
    "print (fullname.title())"
   ]
  },
  {
   "cell_type": "code",
   "execution_count": 30,
   "id": "4250e0a8-bc37-4858-8a35-85be62d910d0",
   "metadata": {},
   "outputs": [],
   "source": [
    "#print name in uppercase"
   ]
  },
  {
   "cell_type": "code",
   "execution_count": 31,
   "id": "438bb228-3c69-4b89-8247-045377e4ae3a",
   "metadata": {},
   "outputs": [
    {
     "name": "stdout",
     "output_type": "stream",
     "text": [
      "RIZWAN AHMED SYED\n"
     ]
    }
   ],
   "source": [
    "print(fullname.upper())"
   ]
  },
  {
   "cell_type": "code",
   "execution_count": 32,
   "id": "ee1fa06e-5b0b-42da-9cdc-5780c1ee2e05",
   "metadata": {},
   "outputs": [],
   "source": [
    "#print name in lowercase"
   ]
  },
  {
   "cell_type": "code",
   "execution_count": 33,
   "id": "989cd4dc-f00d-4a22-8ff1-2ff68b015b4f",
   "metadata": {},
   "outputs": [
    {
     "name": "stdout",
     "output_type": "stream",
     "text": [
      "rizwan ahmed syed\n"
     ]
    }
   ],
   "source": [
    "print(fullname.lower())"
   ]
  },
  {
   "cell_type": "code",
   "execution_count": null,
   "id": "342d9ec2-03e0-4ae9-9b74-132cc12c3be0",
   "metadata": {},
   "outputs": [],
   "source": []
  }
 ],
 "metadata": {
  "kernelspec": {
   "display_name": "Python 3 (ipykernel)",
   "language": "python",
   "name": "python3"
  },
  "language_info": {
   "codemirror_mode": {
    "name": "ipython",
    "version": 3
   },
   "file_extension": ".py",
   "mimetype": "text/x-python",
   "name": "python",
   "nbconvert_exporter": "python",
   "pygments_lexer": "ipython3",
   "version": "3.11.7"
  }
 },
 "nbformat": 4,
 "nbformat_minor": 5
}
